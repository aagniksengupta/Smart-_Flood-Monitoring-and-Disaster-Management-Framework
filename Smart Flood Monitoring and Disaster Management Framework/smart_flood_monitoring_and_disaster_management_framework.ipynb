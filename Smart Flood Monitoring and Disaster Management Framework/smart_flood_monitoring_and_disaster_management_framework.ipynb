{
 "cells": [
  {
   "cell_type": "markdown",
   "id": "e3c65767",
   "metadata": {},
   "source": [
    "PROJECT TITLE- SMART FLOOD MONITORING AND DISASTER MANAGEMENT FRAMEWORK\n",
    "\n",
    "PROBLEM STATEMENT- Significant losses of lives, property, and resources are caused by floods, frequently as a result of inadequate preparation and delayed alerts. Communities are left extremely exposed because traditional monitoring systems have trouble integrating real-time data and making accurate predictions. Disaster response becomes ineffective and reactive rather than preventive in the absence of prompt risk assessments and actionable insights. Therefore, a clever, technologically advanced framework that facilitates efficient flood monitoring and disaster management is desperately needed.\n",
    "\n",
    "DESCRIPTION- A technology-driven system called the Smart Flood Monitoring and Disaster Management Framework was created to effectively anticipate, track, and control flood-related risks. To deliver precise early warnings, it combines real-time sensor data, weather predictions, and satellite photos. The system determines vulnerable areas, evaluates risk levels, and makes sure that notifications are promptly distributed to communities and authorities using intelligent analytics. It provides a comprehensive solution for lessening the effects of floods by supporting crisis management tasks like evacuation planning, resource allocation, and post-flood rehabilitation in addition to warnings."
   ]
  },
  {
   "cell_type": "code",
   "execution_count": 2,
   "id": "da5efa77",
   "metadata": {},
   "outputs": [],
   "source": [
    "#import libraries\n",
    "import os\n",
    "import numpy as np\n",
    "import pandas as pd\n",
    "from tqdm import tqdm\n",
    "from sklearn.neural_network import MLPRegressor\n",
    "from sklearn.metrics import mean_squared_error"
   ]
  },
  {
   "cell_type": "code",
   "execution_count": 3,
   "id": "61d7ebfe",
   "metadata": {},
   "outputs": [
    {
     "name": "stdout",
     "output_type": "stream",
     "text": [
      "   Image   Mask\n",
      "0  0.jpg  0.png\n",
      "1  1.jpg  1.png\n",
      "2  2.jpg  2.png\n",
      "3  3.jpg  3.png\n",
      "4  4.jpg  4.png\n"
     ]
    }
   ],
   "source": [
    "#load the dataset\n",
    "df = pd.read_csv(\"metadata.csv\")\n",
    "\n",
    "#display first few rows\n",
    "print(df.head())"
   ]
  },
  {
   "cell_type": "code",
   "execution_count": 4,
   "id": "995e6dc3",
   "metadata": {},
   "outputs": [
    {
     "name": "stdout",
     "output_type": "stream",
     "text": [
      "<class 'pandas.core.frame.DataFrame'>\n",
      "RangeIndex: 290 entries, 0 to 289\n",
      "Data columns (total 2 columns):\n",
      " #   Column  Non-Null Count  Dtype \n",
      "---  ------  --------------  ----- \n",
      " 0   Image   290 non-null    object\n",
      " 1   Mask    290 non-null    object\n",
      "dtypes: object(2)\n",
      "memory usage: 4.7+ KB\n",
      "None\n",
      "           Image      Mask\n",
      "count        290       290\n",
      "unique       290       290\n",
      "top     1087.jpg  1087.png\n",
      "freq           1         1\n",
      "Image    0\n",
      "Mask     0\n",
      "dtype: int64\n"
     ]
    }
   ],
   "source": [
    "#basic info\n",
    "print(df.info())\n",
    "print(df.describe())\n",
    "print(df.isnull().sum())\n"
   ]
  }
 ],
 "metadata": {
  "kernelspec": {
   "display_name": "base",
   "language": "python",
   "name": "python3"
  },
  "language_info": {
   "codemirror_mode": {
    "name": "ipython",
    "version": 3
   },
   "file_extension": ".py",
   "mimetype": "text/x-python",
   "name": "python",
   "nbconvert_exporter": "python",
   "pygments_lexer": "ipython3",
   "version": "3.13.5"
  }
 },
 "nbformat": 4,
 "nbformat_minor": 5
}
